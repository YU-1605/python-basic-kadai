{
  "nbformat": 4,
  "nbformat_minor": 0,
  "metadata": {
    "colab": {
      "provenance": []
    },
    "kernelspec": {
      "name": "python3",
      "display_name": "Python 3"
    },
    "language_info": {
      "name": "python"
    }
  },
  "cells": [
    {
      "cell_type": "code",
      "execution_count": 7,
      "metadata": {
        "colab": {
          "base_uri": "https://localhost:8080/"
        },
        "id": "ctmKu2LAK72L",
        "outputId": "0a9fea95-4d59-487d-c949-6edd561e65da"
      },
      "outputs": [
        {
          "output_type": "stream",
          "name": "stdout",
          "text": [
            "侍太郎は大人です。\n",
            "侍二郎は大人です。\n",
            "侍三郎は大人ではありません。\n",
            "侍四郎は大人ではありません。\n"
          ]
        }
      ],
      "source": [
        "class Human:\n",
        "  def __init__(self, name, age):\n",
        "    self.name = name\n",
        "    self.age = age\n",
        "\n",
        "  def check_adult(self):\n",
        "    if self.age >= 20:\n",
        "      print(f\"{self.name}は大人です。\")\n",
        "    else:\n",
        "      print(f\"{self.name}は大人ではありません。\")\n",
        "\n",
        "\n",
        "people = [\n",
        "    Human(\"侍太郎\", 36),\n",
        "    Human(\"侍二郎\", 25),\n",
        "    Human(\"侍三郎\", 18),\n",
        "    Human(\"侍四郎\", 12)\n",
        "]\n",
        "\n",
        "for person in people:\n",
        "  person.check_adult()\n"
      ]
    }
  ]
}