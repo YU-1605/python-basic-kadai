{
  "nbformat": 4,
  "nbformat_minor": 0,
  "metadata": {
    "colab": {
      "provenance": []
    },
    "kernelspec": {
      "name": "python3",
      "display_name": "Python 3"
    },
    "language_info": {
      "name": "python"
    }
  },
  "cells": [
    {
      "cell_type": "code",
      "execution_count": 13,
      "metadata": {
        "colab": {
          "base_uri": "https://localhost:8080/"
        },
        "id": "i1J1-FloeyKg",
        "outputId": "900ee4a7-feb9-49c6-aed5-67709a60ce18"
      },
      "outputs": [
        {
          "output_type": "execute_result",
          "data": {
            "text/plain": [
              "1320.0"
            ]
          },
          "metadata": {},
          "execution_count": 13
        }
      ],
      "source": [
        "def calculate_total(price, tax_rate):\n",
        "  total = price * (1 + tax_rate)\n",
        "  return total\n",
        "\n",
        "calculate_total(1200, 0.1)"
      ]
    }
  ]
}