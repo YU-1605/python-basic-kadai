{
  "nbformat": 4,
  "nbformat_minor": 0,
  "metadata": {
    "colab": {
      "provenance": []
    },
    "kernelspec": {
      "name": "python3",
      "display_name": "Python 3"
    },
    "language_info": {
      "name": "python"
    }
  },
  "cells": [
    {
      "cell_type": "code",
      "execution_count": 10,
      "metadata": {
        "colab": {
          "base_uri": "https://localhost:8080/"
        },
        "id": "i1J1-FloeyKg",
        "outputId": "76334971-6291-4c9e-95e5-37712bca5af1"
      },
      "outputs": [
        {
          "output_type": "execute_result",
          "data": {
            "text/plain": [
              "120.0"
            ]
          },
          "metadata": {},
          "execution_count": 10
        }
      ],
      "source": [
        "def calculate_tax(price, tax_rate):\n",
        "  tax = price * tax_rate\n",
        "  return tax\n",
        "\n",
        "calculate_tax(1200, 0.1)"
      ]
    }
  ]
}